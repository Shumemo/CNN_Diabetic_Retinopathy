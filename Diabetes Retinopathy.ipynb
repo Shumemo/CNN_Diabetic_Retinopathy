{
 "cells": [
  {
   "cell_type": "markdown",
   "metadata": {},
   "source": [
    "## Environment Setup"
   ]
  },
  {
   "cell_type": "code",
   "execution_count": 55,
   "metadata": {},
   "outputs": [],
   "source": [
    "# Import Usual usage modules.\n",
    "import numpy as np\n",
    "import pandas as pd \n",
    "import matplotlib.pyplot as plt\n",
    "%matplotlib inline\n",
    "\n",
    "# Import TensorFlow and Keras for GPU Usage\n",
    "import tensorflow as tf\n",
    "import keras \n",
    "from tensorflow.python.client import device_lib\n",
    "\n",
    "# Import the Keras libraries and packages for usage\n",
    "from keras.models import Sequential\n",
    "from keras.layers import Convolution2D\n",
    "from keras.layers import Activation\n",
    "from keras.layers import BatchNormalization\n",
    "from keras.layers import MaxPooling2D\n",
    "from keras.layers import Flatten\n",
    "from keras.layers import Dense\n",
    "from keras.layers import Dropout\n",
    "from keras.callbacks import History\n",
    "from keras.callbacks import EarlyStopping, ReduceLROnPlateau\n",
    "from keras import backend as K\n",
    "\n",
    "# Import keras package for data augmentation\n",
    "from keras.preprocessing.image import ImageDataGenerator\n",
    " \n",
    "# For images (Navigating, writing, and loading)\n",
    "import os\n",
    "import imageio\n",
    "from IPython.display import display\n",
    "from PIL import Image\n",
    "\n",
    "# Filter warnings\n",
    "import warnings\n",
    "warnings.filterwarnings('ignore')"
   ]
  },
  {
   "cell_type": "code",
   "execution_count": 3,
   "metadata": {
    "collapsed": true
   },
   "outputs": [
    {
     "name": "stdout",
     "output_type": "stream",
     "text": [
      "1.9.0\n",
      "2.2.4\n",
      "[name: \"/device:CPU:0\"\n",
      "device_type: \"CPU\"\n",
      "memory_limit: 268435456\n",
      "locality {\n",
      "}\n",
      "incarnation: 10386021041059731134\n",
      ", name: \"/device:GPU:0\"\n",
      "device_type: \"GPU\"\n",
      "memory_limit: 4867584819\n",
      "locality {\n",
      "  bus_id: 1\n",
      "  links {\n",
      "    link {\n",
      "      device_id: 1\n",
      "      type: \"StreamExecutor\"\n",
      "      strength: 1\n",
      "    }\n",
      "  }\n",
      "}\n",
      "incarnation: 16446035137760845642\n",
      "physical_device_desc: \"device: 0, name: GeForce GTX 980 Ti, pci bus id: 0000:01:00.0, compute capability: 5.2\"\n",
      ", name: \"/device:GPU:1\"\n",
      "device_type: \"GPU\"\n",
      "memory_limit: 4867584819\n",
      "locality {\n",
      "  bus_id: 1\n",
      "  links {\n",
      "    link {\n",
      "      type: \"StreamExecutor\"\n",
      "      strength: 1\n",
      "    }\n",
      "  }\n",
      "}\n",
      "incarnation: 9754725418827982393\n",
      "physical_device_desc: \"device: 1, name: GeForce GTX 980 Ti, pci bus id: 0000:02:00.0, compute capability: 5.2\"\n",
      "]\n"
     ]
    },
    {
     "data": {
      "text/plain": [
       "['/job:localhost/replica:0/task:0/device:GPU:0',\n",
       " '/job:localhost/replica:0/task:0/device:GPU:1']"
      ]
     },
     "execution_count": 3,
     "metadata": {},
     "output_type": "execute_result"
    }
   ],
   "source": [
    "# Check that the GPU is being utilized\n",
    "print(tf.__version__)\n",
    "print(keras.__version__)\n",
    "print(device_lib.list_local_devices())\n",
    "K.tensorflow_backend._get_available_gpus()"
   ]
  },
  {
   "cell_type": "markdown",
   "metadata": {},
   "source": [
    "## Preprocessing Data"
   ]
  },
  {
   "cell_type": "markdown",
   "metadata": {},
   "source": [
    "I want to split up the image data I have so that they are organized by class, and eye (Left or Right)\n",
    "    - Level 0 (Retinopathy Absent)\n",
    "    - Level 1 (Mild Retinopathy)\n",
    "    - Level 2 (Moderate Retinopathy)\n",
    "    - Level 3 (Severe Retinopathy)\n",
    "    - Level 4 (Proliferative Retinopathy)\n",
    "\n",
    "I also want to split the data so that there is a clear folder for training data and testing data\n",
    "    - Training/Classes/\n",
    "    - Validation/Classes/"
   ]
  },
  {
   "cell_type": "code",
   "execution_count": 5,
   "metadata": {},
   "outputs": [],
   "source": [
    "# Import the labels\n",
    "df = pd.read_csv(\"DR_Labels_Cropped.csv\")"
   ]
  },
  {
   "cell_type": "code",
   "execution_count": 8,
   "metadata": {},
   "outputs": [],
   "source": [
    "# Import the necessary modules to move files around\n",
    "import csv\n",
    "import os\n",
    "\n",
    "# Set the directories\n",
    "SOURCE_ROOT = 'C:\\\\Users\\\\Mirwan\\\\Desktop\\\\Data Science\\\\Capstone\\\\resized_train_cropped\\\\'\n",
    "DEST_ROOT = 'C:\\\\Users\\\\Mirwan\\\\Desktop\\\\Data Science\\\\Capstone\\\\All Images\\\\'\n",
    "\n",
    "with open('DR_Labels_Cropped.csv') as infile:\n",
    "    # Skip the header row\n",
    "    next(infile)  \n",
    "    reader = csv.reader(infile)\n",
    "    seen = set()\n",
    "    for image, level in reader:\n",
    "        # Create a new directory if needed\n",
    "        if level not in seen:\n",
    "            os.mkdir(os.path.join(DEST_ROOT, level))\n",
    "            seen.add(level)\n",
    "\n",
    "        src = os.path.join(SOURCE_ROOT, image + '.jpeg')\n",
    "        dest = os.path.join(DEST_ROOT, level, image + '.jpeg')\n",
    "\n",
    "        try:\n",
    "            os.rename(src, dest)\n",
    "        except WindowsError as e:\n",
    "            print(e)"
   ]
  },
  {
   "cell_type": "markdown",
   "metadata": {},
   "source": [
    "Now we have the images all in separate class folders under the Training folder.\n",
    "\n",
    "I want to split this set such that 80% of the data remains in Training, while 20% Goes to Validation"
   ]
  },
  {
   "cell_type": "code",
   "execution_count": 11,
   "metadata": {},
   "outputs": [],
   "source": [
    "import split_folders\n",
    "\n",
    "# Split with a ratio.\n",
    "split_folders.ratio('All Images/', output=\"Split\", seed=1337, ratio=(.8, .2))"
   ]
  },
  {
   "cell_type": "markdown",
   "metadata": {},
   "source": [
    "I have to account for class balance. There is an imbalance here:"
   ]
  },
  {
   "cell_type": "code",
   "execution_count": 7,
   "metadata": {},
   "outputs": [
    {
     "name": "stdout",
     "output_type": "stream",
     "text": [
      "0    25802\n",
      "2     5288\n",
      "1     2438\n",
      "3      872\n",
      "4      708\n",
      "Name: level, dtype: int64\n"
     ]
    },
    {
     "data": {
      "image/png": "[encoded data removed]",
      "text/plain": [
       "<Figure size 432x288 with 1 Axes>"
      ]
     },
     "metadata": {
      "needs_background": "light"
     },
     "output_type": "display_data"
    }
   ],
   "source": [
    "# Count and plot the sum of each level\n",
    "df['level'].value_counts().plot(kind='bar')\n",
    "print(df['level'].value_counts())\n",
    "\n",
    "# Set y\n",
    "y = df['level']"
   ]
  },
  {
   "cell_type": "markdown",
   "metadata": {},
   "source": [
    "There should be no need to make modifications for this imbalance. The ratio at most is 50:1 for level 4 to none. That isn't so bad for the first build. This can be altered as optimizations occur."
   ]
  },
  {
   "cell_type": "markdown",
   "metadata": {},
   "source": [
    "## First Build of the CNN Model"
   ]
  },
  {
   "cell_type": "markdown",
   "metadata": {},
   "source": [
    "There are multiple steps in creating a CNN for image classification.\n",
    "\n",
    "CNN Models have a step-by-step process like the old models we had.\n",
    "\n",
    "Instead of Instatiante, Fit, and Score, we do:\n",
    "\n",
    "1 - **Initialize**\n",
    "    - We set a variable to choose the type of model we want, similar to 'Instantiate'\n",
    "2 - **Convolution**\n",
    "    - Extracting features from the image, preserving the spatial relationship between pixels as it processes the image a square at a time\n",
    "3 - **Pooling**\n",
    "    - Reducings the dimensionality of each feature map, but keeping key information\n",
    "4 - **Flatten**\n",
    "    - Converts the matrix created from convolution, and pooling into a linear array so that it can be input into the Hidden Layer of the Neural Network\n",
    "5 - **Connect**\n",
    "    - This is connecting our CNN layers into a full web, front to back\n",
    "6 - **Compile**\n",
    "    - We put the model layers final parts together to complete it, such as which optimizer to use, what kind of classification we are aiming for with our dataset, and what metrics to emphasize\n",
    "    - We are emphasizing 'Accuracy' because for medical imaging, it is the most important metric; especially when there is a human element regarding health and treatment\n",
    "7 - **Augment**\n",
    "    - We need a large amount of data to train such models\n",
    "    - This can be achieved by augmenting the images by flipping them, rotating them, and translating them in any way.\n",
    "    - This will reduce overfitting.\n",
    "    - We can alter this as we redo our model to be more robust\n",
    "8 - **Train and Visualize**\n",
    "    - We visualize the accuracy of the training set, validation set, and the losses to see how we can adjust and improve the model to become more robust\n",
    "    - We continue this until it reaches a point where we are satisfied with the result\n",
    "    \n",
    "Lets follow these steps and build a basic model to improve upon.\n",
    "Below is a step by step process of how to build a CNN model."
   ]
  },
  {
   "cell_type": "markdown",
   "metadata": {},
   "source": [
    "This is a large dataset, with large images. This type of deep learning will require serious computational power. GPU usage from Tensorflow will help achieve this; however, with multiple gpus, we can speed this up much further, so it is helpful to try and leverage this additional horsepower.\n",
    "\n",
    "This can be achieved using 'Data Parallelism', the splitting of batches to different gpus for processing so that they are running in parallel."
   ]
  },
  {
   "cell_type": "code",
   "execution_count": 12,
   "metadata": {},
   "outputs": [],
   "source": [
    "# Activating MULTI-GPU usage using Data Parallelism\n",
    "def make_parallel(fn, num_gpus, **kwargs):\n",
    "    in_splits = {}\n",
    "    for k, v in kwargs.items():\n",
    "        in_splits[k] = tf.split(v, num_gpus)\n",
    "\n",
    "    out_split = []\n",
    "    for i in range(num_gpus):\n",
    "        with tf.device(tf.DeviceSpec(device_type=\"GPU\", device_index=i)):\n",
    "            with tf.variable_scope(tf.get_variable_scope(), reuse=tf.AUTO_REUSE):\n",
    "                out_split.append(fn(**{k : v[i] for k, v in in_splits.items()}))\n",
    "\n",
    "    return tf.concat(out_split, axis=0)"
   ]
  },
  {
   "cell_type": "markdown",
   "metadata": {},
   "source": [
    "This function now needs to be applied to the classifier used so that it is applied, and the workload is split across both GPUs and the CPU as opposed to one GPU with the CPU."
   ]
  },
  {
   "cell_type": "code",
   "execution_count": 13,
   "metadata": {},
   "outputs": [],
   "source": [
    "# Initialize the CNN model\n",
    "classifier = Sequential()\n",
    "\n",
    "### FIRST LAYER\n",
    "# Step 1 - Convolution\n",
    "classifier.add(Convolution2D(16, (3, 3), input_shape = (256, 256, 3), activation = 'relu'))\n",
    "# Step 2 - Pooling\n",
    "classifier.add(MaxPooling2D(pool_size = (2,2)))\n",
    "# ***Add Dropouts Between Layers To Reduce OVERFITTING*** \n",
    "classifier.add(Dropout(0.2))\n",
    "\n",
    "### SECOND LAYER\n",
    "classifier.add(Convolution2D(16, 3, activation = 'relu'))\n",
    "classifier.add(MaxPooling2D(pool_size = (2,2)))\n",
    "classifier.add(Dropout(0.2))\n",
    "\n",
    "### THIRD LAYER\n",
    "classifier.add(Convolution2D(32, 3, activation = 'relu'))\n",
    "classifier.add(MaxPooling2D(pool_size = (2,2)))\n",
    "classifier.add(Dropout(0.2))\n",
    "\n",
    "### FOURTH LAYER\n",
    "classifier.add(Convolution2D(32, 3, activation = 'relu'))\n",
    "classifier.add(MaxPooling2D(pool_size = (2,2)))\n",
    "classifier.add(Dropout(0.2))\n",
    "\n",
    "### MATRIX TO HIDDEN LAYER TO OUTPUT\n",
    "# Step 3 - Flattening\n",
    "classifier.add(Flatten())\n",
    "# Step 4 - Full Connection\n",
    "classifier.add(Dense(output_dim = 256, activation = 'relu'))\n",
    "classifier.add(Dense(output_dim = 5, activation = 'softmax'))\n",
    "\n",
    "# Step 4b - Compiling the CNN\n",
    "classifier.compile(optimizer = 'adam', loss = 'sparse_categorical_crossentropy', metrics = ['accuracy'])"
   ]
  },
  {
   "cell_type": "markdown",
   "metadata": {},
   "source": [
    "### Check Model"
   ]
  },
  {
   "cell_type": "code",
   "execution_count": 14,
   "metadata": {},
   "outputs": [
    {
     "name": "stdout",
     "output_type": "stream",
     "text": [
      "_________________________________________________________________\n",
      "Layer (type)                 Output Shape              Param #   \n",
      "=================================================================\n",
      "conv2d_1 (Conv2D)            (None, 254, 254, 16)      448       \n",
      "_________________________________________________________________\n",
      "max_pooling2d_1 (MaxPooling2 (None, 127, 127, 16)      0         \n",
      "_________________________________________________________________\n",
      "dropout_1 (Dropout)          (None, 127, 127, 16)      0         \n",
      "_________________________________________________________________\n",
      "conv2d_2 (Conv2D)            (None, 125, 125, 16)      2320      \n",
      "_________________________________________________________________\n",
      "max_pooling2d_2 (MaxPooling2 (None, 62, 62, 16)        0         \n",
      "_________________________________________________________________\n",
      "dropout_2 (Dropout)          (None, 62, 62, 16)        0         \n",
      "_________________________________________________________________\n",
      "conv2d_3 (Conv2D)            (None, 60, 60, 32)        4640      \n",
      "_________________________________________________________________\n",
      "max_pooling2d_3 (MaxPooling2 (None, 30, 30, 32)        0         \n",
      "_________________________________________________________________\n",
      "dropout_3 (Dropout)          (None, 30, 30, 32)        0         \n",
      "_________________________________________________________________\n",
      "conv2d_4 (Conv2D)            (None, 28, 28, 32)        9248      \n",
      "_________________________________________________________________\n",
      "max_pooling2d_4 (MaxPooling2 (None, 14, 14, 32)        0         \n",
      "_________________________________________________________________\n",
      "dropout_4 (Dropout)          (None, 14, 14, 32)        0         \n",
      "_________________________________________________________________\n",
      "flatten_1 (Flatten)          (None, 6272)              0         \n",
      "_________________________________________________________________\n",
      "dense_1 (Dense)              (None, 256)               1605888   \n",
      "_________________________________________________________________\n",
      "dense_2 (Dense)              (None, 5)                 1285      \n",
      "=================================================================\n",
      "Total params: 1,623,829\n",
      "Trainable params: 1,623,829\n",
      "Non-trainable params: 0\n",
      "_________________________________________________________________\n"
     ]
    }
   ],
   "source": [
    "# Check the summary of the model to see all the layers used\n",
    "classifier.summary()"
   ]
  },
  {
   "cell_type": "markdown",
   "metadata": {},
   "source": [
    "### Data Augmentation"
   ]
  },
  {
   "cell_type": "code",
   "execution_count": 15,
   "metadata": {},
   "outputs": [],
   "source": [
    "# Step 5 - Data Augmentation and Preprocessing\n",
    "\n",
    "# Use package to augment the images in the dataset\n",
    "# Create generators for Training / Validation / Test\n",
    "train_datagen = ImageDataGenerator(\n",
    "    rescale = 1./255,\n",
    "    shear_range = 0.2,\n",
    "    zoom_range = 0.5,\n",
    "    horizontal_flip = True,\n",
    "    vertical_flip = True,\n",
    "    rotation_range = 45,\n",
    "    width_shift_range = 0.15,\n",
    "    height_shift_range = 0.15)\n",
    "\n",
    "valid_datagen = ImageDataGenerator(\n",
    "    rescale = 1./255,\n",
    "    shear_range = 0.2,\n",
    "    zoom_range = 0.5,\n",
    "    horizontal_flip = True,\n",
    "    vertical_flip = True,\n",
    "    rotation_range = 45,\n",
    "    width_shift_range = 0.15,\n",
    "    height_shift_range = 0.15)\n",
    "\n",
    "test_datagen = ImageDataGenerator(rescale = 1./255)"
   ]
  },
  {
   "cell_type": "markdown",
   "metadata": {},
   "source": [
    "### Preparing Training Parameters"
   ]
  },
  {
   "cell_type": "markdown",
   "metadata": {},
   "source": [
    "We need to split the Training Set and the Test Set, and set the hyperparameters of the model for the initial training. But how do we go about choosing these parameters?\n",
    "\n",
    "#### Choosing a 'Batch-Size'\n",
    "\n",
    "A larger batch size will give you a better gradient and will help to prevent jumping around (When visualizing graph accuracy and loss after training.)\n",
    "\n",
    "You may also want to consider a smaller learning rate, or a learning rate scheduler (or decay) to allow the network to \"settle in\" as it trains\n",
    "\n",
    "Too large of a batch_size can produce memory problems, especially if you are using a GPU. Once you exceed the limit, dial it back until it works. This will help you find the max batch-size that your system can work with.\n",
    "Too large of a batch size can get you stuck in a local minima, so if your training get stuck, I would reduce it some. Imagine here you are over-correcting the jumping-around and it's not jumping around enough to further minimize the loss function.\n",
    "\n",
    "#### When to reduce 'Epoch'\n",
    "\n",
    "If your train error is very low, yet your test/validation is very high, then you have over-fit the model with too many epochs.\n",
    "The best way to find the right balance is to use early-stopping with a validation test set. Here you can specify when to stop training, and save the weights for the network that gives you the best validation loss. I am using an early-stop here to help with overfitting, along with DropOut in the model layers themselves.\n",
    "\n",
    "#### When to adjust 'Steps-Per-Epoch'\n",
    "\n",
    "Traditionally, the steps per epoch is calculated as train_length // batch_size, since this will use all of the data points, one batch size worth at a time.\n",
    "\n",
    "If you are augmenting the data, then you can stretch this a tad (sometimes I multiply that function above by 2 or 3 etc. But, if it's already training for too long, then just stick with the traditional approach."
   ]
  },
  {
   "cell_type": "code",
   "execution_count": 74,
   "metadata": {},
   "outputs": [
    {
     "name": "stdout",
     "output_type": "stream",
     "text": [
      "Found 28084 images belonging to 5 classes.\n",
      "Found 7024 images belonging to 5 classes.\n"
     ]
    }
   ],
   "source": [
    "# Split the dataset after the augmentation\n",
    "training_set = train_datagen.flow_from_directory(\n",
    "    'Split/train/',\n",
    "    target_size = (256, 256),\n",
    "    batch_size = 128,\n",
    "    class_mode = 'sparse',\n",
    "    shuffle = True)\n",
    "\n",
    "validation_set = valid_datagen.flow_from_directory(\n",
    "    'Split/val/',\n",
    "    target_size = (256, 256),\n",
    "    batch_size = 128,\n",
    "    class_mode = 'sparse',\n",
    "    shuffle = True)\n",
    "\n",
    "# test_set = test_datagen.flow_from_directory(\n",
    "#    'Split/test/',\n",
    "#    target_size = (256, 256),\n",
    "#    batch_size = 1,\n",
    "#    class_mode = None)"
   ]
  },
  {
   "cell_type": "code",
   "execution_count": 19,
   "metadata": {},
   "outputs": [
    {
     "name": "stdout",
     "output_type": "stream",
     "text": [
      "{'0': 0, '1': 1, '2': 2, '3': 3, '4': 4}\n",
      "[0 0 0 ... 4 4 4]\n",
      "{'0': 0, '1': 1, '2': 2, '3': 3, '4': 4}\n",
      "[0 0 0 ... 4 4 4]\n"
     ]
    }
   ],
   "source": [
    "# Validation Classes\n",
    "print(validation_set.class_indices)\n",
    "print(validation_set.classes)\n",
    "\n",
    "# Training Classes\n",
    "print(training_set.class_indices)\n",
    "print(training_set.classes)"
   ]
  },
  {
   "cell_type": "markdown",
   "metadata": {},
   "source": [
    "Batch Size is the number of training examples that get processed at once or in a single batch. Higher number can lead to generalization issues as it can lose on fine detail. As Yann Lecun states: \"Minibatch sizes larger than ... They learn quickly, but the wrong thing.\"\n",
    "\n",
    "Steps per epoch is usually determined by the number of samples (In this case, 25,000) divided by the batch size (16), which is:"
   ]
  },
  {
   "cell_type": "code",
   "execution_count": 1,
   "metadata": {},
   "outputs": [
    {
     "data": {
      "text/plain": [
       "195.3125"
      ]
     },
     "execution_count": 1,
     "metadata": {},
     "output_type": "execute_result"
    }
   ],
   "source": [
    "# Steps Per Epoch for Training Data\n",
    "25000/128"
   ]
  },
  {
   "cell_type": "code",
   "execution_count": 2,
   "metadata": {},
   "outputs": [
    {
     "data": {
      "text/plain": [
       "78.125"
      ]
     },
     "execution_count": 2,
     "metadata": {},
     "output_type": "execute_result"
    }
   ],
   "source": [
    "# Validation Steps\n",
    "10000/128"
   ]
  },
  {
   "cell_type": "markdown",
   "metadata": {},
   "source": [
    "If Data Augmentation is used, it is in good practice to increase this value a bit more than Total / Batch."
   ]
  },
  {
   "cell_type": "markdown",
   "metadata": {},
   "source": [
    "#### Training the Model"
   ]
  },
  {
   "cell_type": "code",
   "execution_count": 23,
   "metadata": {},
   "outputs": [
    {
     "name": "stdout",
     "output_type": "stream",
     "text": [
      "Epoch 1/10\n",
      "200/200 [==============================] - 878s 4s/step - loss: 0.8713 - acc: 0.7348 - val_loss: 0.8776 - val_acc: 0.7357\n",
      "Epoch 2/10\n",
      "200/200 [==============================] - 829s 4s/step - loss: 0.8693 - acc: 0.7335 - val_loss: 0.8836 - val_acc: 0.7344\n",
      "Epoch 3/10\n",
      "200/200 [==============================] - 850s 4s/step - loss: 0.8685 - acc: 0.7355 - val_loss: 0.8695 - val_acc: 0.7341\n",
      "Epoch 4/10\n",
      "200/200 [==============================] - 830s 4s/step - loss: 0.8606 - acc: 0.7384 - val_loss: 0.8716 - val_acc: 0.7324\n",
      "Epoch 5/10\n",
      "200/200 [==============================] - 829s 4s/step - loss: 0.8692 - acc: 0.7323 - val_loss: 0.8566 - val_acc: 0.7388\n",
      "Epoch 6/10\n",
      "200/200 [==============================] - 829s 4s/step - loss: 0.8711 - acc: 0.7333 - val_loss: 0.8669 - val_acc: 0.7340\n",
      "Epoch 7/10\n",
      "200/200 [==============================] - 822s 4s/step - loss: 0.8609 - acc: 0.7370 - val_loss: 0.8673 - val_acc: 0.7330\n",
      "Epoch 8/10\n",
      "200/200 [==============================] - 828s 4s/step - loss: 0.8575 - acc: 0.7348 - val_loss: 0.8673 - val_acc: 0.7350\n"
     ]
    },
    {
     "ename": "TypeError",
     "evalue": "'History' object is not callable",
     "output_type": "error",
     "traceback": [
      "\u001b[1;31m---------------------------------------------------------------------------\u001b[0m",
      "\u001b[1;31mTypeError\u001b[0m                                 Traceback (most recent call last)",
      "\u001b[1;32m<ipython-input-23-c3dc4e453760>\u001b[0m in \u001b[0;36m<module>\u001b[1;34m\u001b[0m\n\u001b[0;32m      6\u001b[0m     \u001b[0mvalidation_data\u001b[0m \u001b[1;33m=\u001b[0m \u001b[0mvalidation_set\u001b[0m\u001b[1;33m,\u001b[0m\u001b[1;33m\u001b[0m\u001b[1;33m\u001b[0m\u001b[0m\n\u001b[0;32m      7\u001b[0m     \u001b[0mvalidation_steps\u001b[0m \u001b[1;33m=\u001b[0m \u001b[1;36m80\u001b[0m\u001b[1;33m,\u001b[0m \u001b[1;31m# (Total / Batch) + Data Aug\u001b[0m\u001b[1;33m\u001b[0m\u001b[1;33m\u001b[0m\u001b[0m\n\u001b[1;32m----> 8\u001b[1;33m     callbacks=[EarlyStopping(patience=3, restore_best_weights=True), ReduceLROnPlateau(patience=2)]), 2)\n\u001b[0m\u001b[0;32m      9\u001b[0m \u001b[0mmodel\u001b[0m\u001b[1;33m.\u001b[0m\u001b[0msave_weights\u001b[0m\u001b[1;33m(\u001b[0m\u001b[1;34m'dr_first_try.h5'\u001b[0m\u001b[1;33m)\u001b[0m\u001b[1;33m\u001b[0m\u001b[1;33m\u001b[0m\u001b[0m\n",
      "\u001b[1;32m<ipython-input-12-500348178c13>\u001b[0m in \u001b[0;36mmake_parallel\u001b[1;34m(fn, num_gpus, **kwargs)\u001b[0m\n\u001b[0;32m      9\u001b[0m         \u001b[1;32mwith\u001b[0m \u001b[0mtf\u001b[0m\u001b[1;33m.\u001b[0m\u001b[0mdevice\u001b[0m\u001b[1;33m(\u001b[0m\u001b[0mtf\u001b[0m\u001b[1;33m.\u001b[0m\u001b[0mDeviceSpec\u001b[0m\u001b[1;33m(\u001b[0m\u001b[0mdevice_type\u001b[0m\u001b[1;33m=\u001b[0m\u001b[1;34m\"GPU\"\u001b[0m\u001b[1;33m,\u001b[0m \u001b[0mdevice_index\u001b[0m\u001b[1;33m=\u001b[0m\u001b[0mi\u001b[0m\u001b[1;33m)\u001b[0m\u001b[1;33m)\u001b[0m\u001b[1;33m:\u001b[0m\u001b[1;33m\u001b[0m\u001b[1;33m\u001b[0m\u001b[0m\n\u001b[0;32m     10\u001b[0m             \u001b[1;32mwith\u001b[0m \u001b[0mtf\u001b[0m\u001b[1;33m.\u001b[0m\u001b[0mvariable_scope\u001b[0m\u001b[1;33m(\u001b[0m\u001b[0mtf\u001b[0m\u001b[1;33m.\u001b[0m\u001b[0mget_variable_scope\u001b[0m\u001b[1;33m(\u001b[0m\u001b[1;33m)\u001b[0m\u001b[1;33m,\u001b[0m \u001b[0mreuse\u001b[0m\u001b[1;33m=\u001b[0m\u001b[0mtf\u001b[0m\u001b[1;33m.\u001b[0m\u001b[0mAUTO_REUSE\u001b[0m\u001b[1;33m)\u001b[0m\u001b[1;33m:\u001b[0m\u001b[1;33m\u001b[0m\u001b[1;33m\u001b[0m\u001b[0m\n\u001b[1;32m---> 11\u001b[1;33m                 \u001b[0mout_split\u001b[0m\u001b[1;33m.\u001b[0m\u001b[0mappend\u001b[0m\u001b[1;33m(\u001b[0m\u001b[0mfn\u001b[0m\u001b[1;33m(\u001b[0m\u001b[1;33m**\u001b[0m\u001b[1;33m{\u001b[0m\u001b[0mk\u001b[0m \u001b[1;33m:\u001b[0m \u001b[0mv\u001b[0m\u001b[1;33m[\u001b[0m\u001b[0mi\u001b[0m\u001b[1;33m]\u001b[0m \u001b[1;32mfor\u001b[0m \u001b[0mk\u001b[0m\u001b[1;33m,\u001b[0m \u001b[0mv\u001b[0m \u001b[1;32min\u001b[0m \u001b[0min_splits\u001b[0m\u001b[1;33m.\u001b[0m\u001b[0mitems\u001b[0m\u001b[1;33m(\u001b[0m\u001b[1;33m)\u001b[0m\u001b[1;33m}\u001b[0m\u001b[1;33m)\u001b[0m\u001b[1;33m)\u001b[0m\u001b[1;33m\u001b[0m\u001b[1;33m\u001b[0m\u001b[0m\n\u001b[0m\u001b[0;32m     12\u001b[0m \u001b[1;33m\u001b[0m\u001b[0m\n\u001b[0;32m     13\u001b[0m     \u001b[1;32mreturn\u001b[0m \u001b[0mtf\u001b[0m\u001b[1;33m.\u001b[0m\u001b[0mconcat\u001b[0m\u001b[1;33m(\u001b[0m\u001b[0mout_split\u001b[0m\u001b[1;33m,\u001b[0m \u001b[0maxis\u001b[0m\u001b[1;33m=\u001b[0m\u001b[1;36m0\u001b[0m\u001b[1;33m)\u001b[0m\u001b[1;33m\u001b[0m\u001b[1;33m\u001b[0m\u001b[0m\n",
      "\u001b[1;31mTypeError\u001b[0m: 'History' object is not callable"
     ]
    }
   ],
   "source": [
    "# Set the generator to create a validation set, and the parameters for how it will train.\n",
    "make_parallel(classifier.fit_generator(\n",
    "    generator = training_set,\n",
    "    steps_per_epoch = 200, # (Total / Batch) + Data Aug\n",
    "    epochs = 10,\n",
    "    validation_data = validation_set,\n",
    "    validation_steps = 80, # (Total / Batch) + Data Aug\n",
    "    callbacks=[EarlyStopping(patience=3, restore_best_weights=True), ReduceLROnPlateau(patience=2)]), 2)\n",
    "model.save_weights('dr_first_try.h5')"
   ]
  },
  {
   "cell_type": "markdown",
   "metadata": {},
   "source": [
    "#### Visualize the Results"
   ]
  },
  {
   "cell_type": "code",
   "execution_count": 29,
   "metadata": {},
   "outputs": [
    {
     "data": {
      "image/png": "[encoded data removed]",
      "text/plain": [
       "<Figure size 1080x360 with 2 Axes>"
      ]
     },
     "metadata": {
      "needs_background": "light"
     },
     "output_type": "display_data"
    }
   ],
   "source": [
    "# We should plot the results of the models training\n",
    "# Set the lists for each part of the models' history and the epochs used so we can plot them\n",
    "acc = classifier.history.history['acc']\n",
    "val_acc = classifier.history.history['val_acc']\n",
    "\n",
    "loss = classifier.history.history['loss']\n",
    "val_loss = classifier.history.history['val_loss']\n",
    "\n",
    "epochs_range = np.arange(1,9)\n",
    "\n",
    "# Make a subplot for 'loss' and one for 'accuracy'\n",
    "plt.figure(figsize=(15, 5))\n",
    "plt.subplot(1, 2, 1)\n",
    "plt.plot(epochs_range, acc, label='Training Accuracy')\n",
    "plt.plot(epochs_range, val_acc, label='Validation Accuracy')\n",
    "plt.xlabel('Epoches')\n",
    "plt.ylabel('Accuracy %')\n",
    "plt.legend(loc='lower right')\n",
    "plt.title('Training and Validation Accuracy')\n",
    "\n",
    "plt.subplot(1, 2, 2)\n",
    "plt.plot(epochs_range, loss, label='Training Loss')\n",
    "plt.plot(epochs_range, val_loss, label='Validation Loss')\n",
    "plt.xlabel('Epoches')\n",
    "plt.ylabel('Loss')\n",
    "plt.legend(loc='upper right')\n",
    "plt.title('Training and Validation Loss')\n",
    "plt.show()"
   ]
  },
  {
   "cell_type": "markdown",
   "metadata": {},
   "source": [
    "This can be further improved:\n",
    "\n",
    "- The early stop part of the code has initiated, this is because there are minimal changes in the accuracy between epoches. This means I may be stuck in a local minima, and should reduce my batch size as I might be overstepping or understepping, then try again.\n",
    "- The Training data hasn't been learned yet. The model is likely too simple for such a deep task.\n",
    "\n",
    "Current Stats:\n",
    "\n",
    "- Training Accuracy: 73%\n",
    "- Validation Accuracy: 73%"
   ]
  },
  {
   "cell_type": "markdown",
   "metadata": {},
   "source": [
    "### Building the CNN Model - Take Two"
   ]
  },
  {
   "cell_type": "markdown",
   "metadata": {},
   "source": [
    "The top approach was very simple. Too simple for the task at hand. Each convolution layer is to detect features. Having too few or the layers too far in between won't allow the depth of features in retinal imaging to be detected. \n",
    "\n",
    "Here, I am attempting to reorganize the layers such that there are multiple convolution layers for each pooling layer. The Dropout has also increased, but due to there being less layers but more complicated ones, there are less Dropout instances altogether. \n",
    "\n",
    "A final Dropout has also been added to the FC (Fully Connected) layers."
   ]
  },
  {
   "cell_type": "code",
   "execution_count": 78,
   "metadata": {},
   "outputs": [],
   "source": [
    "# Model Architecture\n",
    "classifier = Sequential()\n",
    "\n",
    "classifier.add(Convolution2D(16, (3, 3), input_shape = (256, 256, 3)))\n",
    "classifier.add(Activation('relu'))\n",
    "classifier.add(Convolution2D(16, (3, 3)))\n",
    "classifier.add(Activation('relu'))\n",
    "classifier.add(Convolution2D(16, (3, 3)))\n",
    "classifier.add(Activation('relu'))\n",
    "classifier.add(MaxPooling2D(pool_size = (2,2)))\n",
    "classifier.add(Dropout(0.25))\n",
    "\n",
    "classifier.add(Convolution2D(32, (3, 3)))\n",
    "classifier.add(Activation('relu'))\n",
    "classifier.add(Convolution2D(32, (3, 3)))\n",
    "classifier.add(Activation('relu'))\n",
    "classifier.add(Convolution2D(32, (3, 3)))\n",
    "classifier.add(Activation('relu'))\n",
    "classifier.add(MaxPooling2D(pool_size = (2,2)))\n",
    "classifier.add(Dropout(0.25))\n",
    "\n",
    "classifier.add(Flatten())\n",
    "classifier.add(Dense(output_dim = 16))\n",
    "classifier.add(Activation('relu'))\n",
    "classifier.add(Dropout(0.25))\n",
    "classifier.add(Dense(output_dim = 5))\n",
    "classifier.add(Activation('softmax'))\n",
    "\n",
    "classifier.compile(optimizer = 'adam', loss = 'sparse_categorical_crossentropy', metrics = ['accuracy'])"
   ]
  },
  {
   "cell_type": "markdown",
   "metadata": {},
   "source": [
    "#### Check Model - Take Two"
   ]
  },
  {
   "cell_type": "code",
   "execution_count": 79,
   "metadata": {},
   "outputs": [
    {
     "name": "stdout",
     "output_type": "stream",
     "text": [
      "_________________________________________________________________\n",
      "Layer (type)                 Output Shape              Param #   \n",
      "=================================================================\n",
      "conv2d_120 (Conv2D)          (None, 254, 254, 16)      448       \n",
      "_________________________________________________________________\n",
      "activation_160 (Activation)  (None, 254, 254, 16)      0         \n",
      "_________________________________________________________________\n",
      "conv2d_121 (Conv2D)          (None, 252, 252, 16)      2320      \n",
      "_________________________________________________________________\n",
      "activation_161 (Activation)  (None, 252, 252, 16)      0         \n",
      "_________________________________________________________________\n",
      "conv2d_122 (Conv2D)          (None, 250, 250, 16)      2320      \n",
      "_________________________________________________________________\n",
      "activation_162 (Activation)  (None, 250, 250, 16)      0         \n",
      "_________________________________________________________________\n",
      "max_pooling2d_53 (MaxPooling (None, 125, 125, 16)      0         \n",
      "_________________________________________________________________\n",
      "dropout_69 (Dropout)         (None, 125, 125, 16)      0         \n",
      "_________________________________________________________________\n",
      "conv2d_123 (Conv2D)          (None, 123, 123, 32)      4640      \n",
      "_________________________________________________________________\n",
      "activation_163 (Activation)  (None, 123, 123, 32)      0         \n",
      "_________________________________________________________________\n",
      "conv2d_124 (Conv2D)          (None, 121, 121, 32)      9248      \n",
      "_________________________________________________________________\n",
      "activation_164 (Activation)  (None, 121, 121, 32)      0         \n",
      "_________________________________________________________________\n",
      "conv2d_125 (Conv2D)          (None, 119, 119, 32)      9248      \n",
      "_________________________________________________________________\n",
      "activation_165 (Activation)  (None, 119, 119, 32)      0         \n",
      "_________________________________________________________________\n",
      "max_pooling2d_54 (MaxPooling (None, 59, 59, 32)        0         \n",
      "_________________________________________________________________\n",
      "dropout_70 (Dropout)         (None, 59, 59, 32)        0         \n",
      "_________________________________________________________________\n",
      "flatten_19 (Flatten)         (None, 111392)            0         \n",
      "_________________________________________________________________\n",
      "dense_48 (Dense)             (None, 16)                1782288   \n",
      "_________________________________________________________________\n",
      "activation_166 (Activation)  (None, 16)                0         \n",
      "_________________________________________________________________\n",
      "dropout_71 (Dropout)         (None, 16)                0         \n",
      "_________________________________________________________________\n",
      "dense_49 (Dense)             (None, 5)                 85        \n",
      "_________________________________________________________________\n",
      "activation_167 (Activation)  (None, 5)                 0         \n",
      "=================================================================\n",
      "Total params: 1,810,597\n",
      "Trainable params: 1,810,597\n",
      "Non-trainable params: 0\n",
      "_________________________________________________________________\n"
     ]
    }
   ],
   "source": [
    "# Check the summary of the model to see all the layers used\n",
    "classifier.summary()"
   ]
  },
  {
   "cell_type": "markdown",
   "metadata": {},
   "source": [
    "#### Training the Model - Take Two"
   ]
  },
  {
   "cell_type": "code",
   "execution_count": 80,
   "metadata": {
    "collapsed": true
   },
   "outputs": [
    {
     "name": "stdout",
     "output_type": "stream",
     "text": [
      "Epoch 1/10\n"
     ]
    },
    {
     "ename": "ResourceExhaustedError",
     "evalue": "OOM when allocating tensor with shape[64,32,119,119] and type float on /job:localhost/replica:0/task:0/device:GPU:0 by allocator GPU_0_bfc\n\t [[Node: training_7/Adam/gradients/max_pooling2d_54/MaxPool_grad/MaxPoolGrad = MaxPoolGrad[T=DT_FLOAT, data_format=\"NCHW\", ksize=[1, 1, 2, 2], padding=\"VALID\", strides=[1, 1, 2, 2], _device=\"/job:localhost/replica:0/task:0/device:GPU:0\"](activation_165/Relu, max_pooling2d_54/MaxPool, training_7/Adam/gradients/AddN_1)]]\nHint: If you want to see a list of allocated tensors when OOM happens, add report_tensor_allocations_upon_oom to RunOptions for current allocation info.\n",
     "output_type": "error",
     "traceback": [
      "\u001b[1;31m---------------------------------------------------------------------------\u001b[0m",
      "\u001b[1;31mResourceExhaustedError\u001b[0m                    Traceback (most recent call last)",
      "\u001b[1;32m<ipython-input-80-16b5df315923>\u001b[0m in \u001b[0;36m<module>\u001b[1;34m\u001b[0m\n\u001b[0;32m      6\u001b[0m     \u001b[0mvalidation_data\u001b[0m \u001b[1;33m=\u001b[0m \u001b[0mvalidation_set\u001b[0m\u001b[1;33m,\u001b[0m\u001b[1;33m\u001b[0m\u001b[1;33m\u001b[0m\u001b[0m\n\u001b[0;32m      7\u001b[0m     \u001b[0mvalidation_steps\u001b[0m \u001b[1;33m=\u001b[0m \u001b[1;36m160\u001b[0m\u001b[1;33m,\u001b[0m \u001b[1;31m# (Total / Batch) + Data Aug\u001b[0m\u001b[1;33m\u001b[0m\u001b[1;33m\u001b[0m\u001b[0m\n\u001b[1;32m----> 8\u001b[1;33m     callbacks=[EarlyStopping(patience=3, restore_best_weights=True), ReduceLROnPlateau(patience=2)]), 2)\n\u001b[0m\u001b[0;32m      9\u001b[0m \u001b[0mmodel\u001b[0m\u001b[1;33m.\u001b[0m\u001b[0msave_weights\u001b[0m\u001b[1;33m(\u001b[0m\u001b[1;34m'dr_second_model.h5'\u001b[0m\u001b[1;33m)\u001b[0m\u001b[1;33m\u001b[0m\u001b[1;33m\u001b[0m\u001b[0m\n",
      "\u001b[1;32m~\\Anaconda3\\envs\\tf2\\lib\\site-packages\\keras\\legacy\\interfaces.py\u001b[0m in \u001b[0;36mwrapper\u001b[1;34m(*args, **kwargs)\u001b[0m\n\u001b[0;32m     89\u001b[0m                 warnings.warn('Update your `' + object_name + '` call to the ' +\n\u001b[0;32m     90\u001b[0m                               'Keras 2 API: ' + signature, stacklevel=2)\n\u001b[1;32m---> 91\u001b[1;33m             \u001b[1;32mreturn\u001b[0m \u001b[0mfunc\u001b[0m\u001b[1;33m(\u001b[0m\u001b[1;33m*\u001b[0m\u001b[0margs\u001b[0m\u001b[1;33m,\u001b[0m \u001b[1;33m**\u001b[0m\u001b[0mkwargs\u001b[0m\u001b[1;33m)\u001b[0m\u001b[1;33m\u001b[0m\u001b[1;33m\u001b[0m\u001b[0m\n\u001b[0m\u001b[0;32m     92\u001b[0m         \u001b[0mwrapper\u001b[0m\u001b[1;33m.\u001b[0m\u001b[0m_original_function\u001b[0m \u001b[1;33m=\u001b[0m \u001b[0mfunc\u001b[0m\u001b[1;33m\u001b[0m\u001b[1;33m\u001b[0m\u001b[0m\n\u001b[0;32m     93\u001b[0m         \u001b[1;32mreturn\u001b[0m \u001b[0mwrapper\u001b[0m\u001b[1;33m\u001b[0m\u001b[1;33m\u001b[0m\u001b[0m\n",
      "\u001b[1;32m~\\Anaconda3\\envs\\tf2\\lib\\site-packages\\keras\\engine\\training.py\u001b[0m in \u001b[0;36mfit_generator\u001b[1;34m(self, generator, steps_per_epoch, epochs, verbose, callbacks, validation_data, validation_steps, class_weight, max_queue_size, workers, use_multiprocessing, shuffle, initial_epoch)\u001b[0m\n\u001b[0;32m   1416\u001b[0m             \u001b[0muse_multiprocessing\u001b[0m\u001b[1;33m=\u001b[0m\u001b[0muse_multiprocessing\u001b[0m\u001b[1;33m,\u001b[0m\u001b[1;33m\u001b[0m\u001b[1;33m\u001b[0m\u001b[0m\n\u001b[0;32m   1417\u001b[0m             \u001b[0mshuffle\u001b[0m\u001b[1;33m=\u001b[0m\u001b[0mshuffle\u001b[0m\u001b[1;33m,\u001b[0m\u001b[1;33m\u001b[0m\u001b[1;33m\u001b[0m\u001b[0m\n\u001b[1;32m-> 1418\u001b[1;33m             initial_epoch=initial_epoch)\n\u001b[0m\u001b[0;32m   1419\u001b[0m \u001b[1;33m\u001b[0m\u001b[0m\n\u001b[0;32m   1420\u001b[0m     \u001b[1;33m@\u001b[0m\u001b[0minterfaces\u001b[0m\u001b[1;33m.\u001b[0m\u001b[0mlegacy_generator_methods_support\u001b[0m\u001b[1;33m\u001b[0m\u001b[1;33m\u001b[0m\u001b[0m\n",
      "\u001b[1;32m~\\Anaconda3\\envs\\tf2\\lib\\site-packages\\keras\\engine\\training_generator.py\u001b[0m in \u001b[0;36mfit_generator\u001b[1;34m(model, generator, steps_per_epoch, epochs, verbose, callbacks, validation_data, validation_steps, class_weight, max_queue_size, workers, use_multiprocessing, shuffle, initial_epoch)\u001b[0m\n\u001b[0;32m    215\u001b[0m                 outs = model.train_on_batch(x, y,\n\u001b[0;32m    216\u001b[0m                                             \u001b[0msample_weight\u001b[0m\u001b[1;33m=\u001b[0m\u001b[0msample_weight\u001b[0m\u001b[1;33m,\u001b[0m\u001b[1;33m\u001b[0m\u001b[1;33m\u001b[0m\u001b[0m\n\u001b[1;32m--> 217\u001b[1;33m                                             class_weight=class_weight)\n\u001b[0m\u001b[0;32m    218\u001b[0m \u001b[1;33m\u001b[0m\u001b[0m\n\u001b[0;32m    219\u001b[0m                 \u001b[0mouts\u001b[0m \u001b[1;33m=\u001b[0m \u001b[0mto_list\u001b[0m\u001b[1;33m(\u001b[0m\u001b[0mouts\u001b[0m\u001b[1;33m)\u001b[0m\u001b[1;33m\u001b[0m\u001b[1;33m\u001b[0m\u001b[0m\n",
      "\u001b[1;32m~\\Anaconda3\\envs\\tf2\\lib\\site-packages\\keras\\engine\\training.py\u001b[0m in \u001b[0;36mtrain_on_batch\u001b[1;34m(self, x, y, sample_weight, class_weight)\u001b[0m\n\u001b[0;32m   1215\u001b[0m             \u001b[0mins\u001b[0m \u001b[1;33m=\u001b[0m \u001b[0mx\u001b[0m \u001b[1;33m+\u001b[0m \u001b[0my\u001b[0m \u001b[1;33m+\u001b[0m \u001b[0msample_weights\u001b[0m\u001b[1;33m\u001b[0m\u001b[1;33m\u001b[0m\u001b[0m\n\u001b[0;32m   1216\u001b[0m         \u001b[0mself\u001b[0m\u001b[1;33m.\u001b[0m\u001b[0m_make_train_function\u001b[0m\u001b[1;33m(\u001b[0m\u001b[1;33m)\u001b[0m\u001b[1;33m\u001b[0m\u001b[1;33m\u001b[0m\u001b[0m\n\u001b[1;32m-> 1217\u001b[1;33m         \u001b[0moutputs\u001b[0m \u001b[1;33m=\u001b[0m \u001b[0mself\u001b[0m\u001b[1;33m.\u001b[0m\u001b[0mtrain_function\u001b[0m\u001b[1;33m(\u001b[0m\u001b[0mins\u001b[0m\u001b[1;33m)\u001b[0m\u001b[1;33m\u001b[0m\u001b[1;33m\u001b[0m\u001b[0m\n\u001b[0m\u001b[0;32m   1218\u001b[0m         \u001b[1;32mreturn\u001b[0m \u001b[0munpack_singleton\u001b[0m\u001b[1;33m(\u001b[0m\u001b[0moutputs\u001b[0m\u001b[1;33m)\u001b[0m\u001b[1;33m\u001b[0m\u001b[1;33m\u001b[0m\u001b[0m\n\u001b[0;32m   1219\u001b[0m \u001b[1;33m\u001b[0m\u001b[0m\n",
      "\u001b[1;32m~\\Anaconda3\\envs\\tf2\\lib\\site-packages\\keras\\backend\\tensorflow_backend.py\u001b[0m in \u001b[0;36m__call__\u001b[1;34m(self, inputs)\u001b[0m\n\u001b[0;32m   2713\u001b[0m                 \u001b[1;32mreturn\u001b[0m \u001b[0mself\u001b[0m\u001b[1;33m.\u001b[0m\u001b[0m_legacy_call\u001b[0m\u001b[1;33m(\u001b[0m\u001b[0minputs\u001b[0m\u001b[1;33m)\u001b[0m\u001b[1;33m\u001b[0m\u001b[1;33m\u001b[0m\u001b[0m\n\u001b[0;32m   2714\u001b[0m \u001b[1;33m\u001b[0m\u001b[0m\n\u001b[1;32m-> 2715\u001b[1;33m             \u001b[1;32mreturn\u001b[0m \u001b[0mself\u001b[0m\u001b[1;33m.\u001b[0m\u001b[0m_call\u001b[0m\u001b[1;33m(\u001b[0m\u001b[0minputs\u001b[0m\u001b[1;33m)\u001b[0m\u001b[1;33m\u001b[0m\u001b[1;33m\u001b[0m\u001b[0m\n\u001b[0m\u001b[0;32m   2716\u001b[0m         \u001b[1;32melse\u001b[0m\u001b[1;33m:\u001b[0m\u001b[1;33m\u001b[0m\u001b[1;33m\u001b[0m\u001b[0m\n\u001b[0;32m   2717\u001b[0m             \u001b[1;32mif\u001b[0m \u001b[0mpy_any\u001b[0m\u001b[1;33m(\u001b[0m\u001b[0mis_tensor\u001b[0m\u001b[1;33m(\u001b[0m\u001b[0mx\u001b[0m\u001b[1;33m)\u001b[0m \u001b[1;32mfor\u001b[0m \u001b[0mx\u001b[0m \u001b[1;32min\u001b[0m \u001b[0minputs\u001b[0m\u001b[1;33m)\u001b[0m\u001b[1;33m:\u001b[0m\u001b[1;33m\u001b[0m\u001b[1;33m\u001b[0m\u001b[0m\n",
      "\u001b[1;32m~\\Anaconda3\\envs\\tf2\\lib\\site-packages\\keras\\backend\\tensorflow_backend.py\u001b[0m in \u001b[0;36m_call\u001b[1;34m(self, inputs)\u001b[0m\n\u001b[0;32m   2673\u001b[0m             \u001b[0mfetched\u001b[0m \u001b[1;33m=\u001b[0m \u001b[0mself\u001b[0m\u001b[1;33m.\u001b[0m\u001b[0m_callable_fn\u001b[0m\u001b[1;33m(\u001b[0m\u001b[1;33m*\u001b[0m\u001b[0marray_vals\u001b[0m\u001b[1;33m,\u001b[0m \u001b[0mrun_metadata\u001b[0m\u001b[1;33m=\u001b[0m\u001b[0mself\u001b[0m\u001b[1;33m.\u001b[0m\u001b[0mrun_metadata\u001b[0m\u001b[1;33m)\u001b[0m\u001b[1;33m\u001b[0m\u001b[1;33m\u001b[0m\u001b[0m\n\u001b[0;32m   2674\u001b[0m         \u001b[1;32melse\u001b[0m\u001b[1;33m:\u001b[0m\u001b[1;33m\u001b[0m\u001b[1;33m\u001b[0m\u001b[0m\n\u001b[1;32m-> 2675\u001b[1;33m             \u001b[0mfetched\u001b[0m \u001b[1;33m=\u001b[0m \u001b[0mself\u001b[0m\u001b[1;33m.\u001b[0m\u001b[0m_callable_fn\u001b[0m\u001b[1;33m(\u001b[0m\u001b[1;33m*\u001b[0m\u001b[0marray_vals\u001b[0m\u001b[1;33m)\u001b[0m\u001b[1;33m\u001b[0m\u001b[1;33m\u001b[0m\u001b[0m\n\u001b[0m\u001b[0;32m   2676\u001b[0m         \u001b[1;32mreturn\u001b[0m \u001b[0mfetched\u001b[0m\u001b[1;33m[\u001b[0m\u001b[1;33m:\u001b[0m\u001b[0mlen\u001b[0m\u001b[1;33m(\u001b[0m\u001b[0mself\u001b[0m\u001b[1;33m.\u001b[0m\u001b[0moutputs\u001b[0m\u001b[1;33m)\u001b[0m\u001b[1;33m]\u001b[0m\u001b[1;33m\u001b[0m\u001b[1;33m\u001b[0m\u001b[0m\n\u001b[0;32m   2677\u001b[0m \u001b[1;33m\u001b[0m\u001b[0m\n",
      "\u001b[1;32m~\\Anaconda3\\envs\\tf2\\lib\\site-packages\\tensorflow\\python\\client\\session.py\u001b[0m in \u001b[0;36m__call__\u001b[1;34m(self, *args)\u001b[0m\n\u001b[0;32m   1452\u001b[0m         \u001b[1;32melse\u001b[0m\u001b[1;33m:\u001b[0m\u001b[1;33m\u001b[0m\u001b[1;33m\u001b[0m\u001b[0m\n\u001b[0;32m   1453\u001b[0m           return tf_session.TF_DeprecatedSessionRunCallable(\n\u001b[1;32m-> 1454\u001b[1;33m               self._session._session, self._handle, args, status, None)\n\u001b[0m\u001b[0;32m   1455\u001b[0m \u001b[1;33m\u001b[0m\u001b[0m\n\u001b[0;32m   1456\u001b[0m     \u001b[1;32mdef\u001b[0m \u001b[0m__del__\u001b[0m\u001b[1;33m(\u001b[0m\u001b[0mself\u001b[0m\u001b[1;33m)\u001b[0m\u001b[1;33m:\u001b[0m\u001b[1;33m\u001b[0m\u001b[1;33m\u001b[0m\u001b[0m\n",
      "\u001b[1;32m~\\Anaconda3\\envs\\tf2\\lib\\site-packages\\tensorflow\\python\\framework\\errors_impl.py\u001b[0m in \u001b[0;36m__exit__\u001b[1;34m(self, type_arg, value_arg, traceback_arg)\u001b[0m\n\u001b[0;32m    517\u001b[0m             \u001b[1;32mNone\u001b[0m\u001b[1;33m,\u001b[0m \u001b[1;32mNone\u001b[0m\u001b[1;33m,\u001b[0m\u001b[1;33m\u001b[0m\u001b[1;33m\u001b[0m\u001b[0m\n\u001b[0;32m    518\u001b[0m             \u001b[0mcompat\u001b[0m\u001b[1;33m.\u001b[0m\u001b[0mas_text\u001b[0m\u001b[1;33m(\u001b[0m\u001b[0mc_api\u001b[0m\u001b[1;33m.\u001b[0m\u001b[0mTF_Message\u001b[0m\u001b[1;33m(\u001b[0m\u001b[0mself\u001b[0m\u001b[1;33m.\u001b[0m\u001b[0mstatus\u001b[0m\u001b[1;33m.\u001b[0m\u001b[0mstatus\u001b[0m\u001b[1;33m)\u001b[0m\u001b[1;33m)\u001b[0m\u001b[1;33m,\u001b[0m\u001b[1;33m\u001b[0m\u001b[1;33m\u001b[0m\u001b[0m\n\u001b[1;32m--> 519\u001b[1;33m             c_api.TF_GetCode(self.status.status))\n\u001b[0m\u001b[0;32m    520\u001b[0m     \u001b[1;31m# Delete the underlying status object from memory otherwise it stays alive\u001b[0m\u001b[1;33m\u001b[0m\u001b[1;33m\u001b[0m\u001b[1;33m\u001b[0m\u001b[0m\n\u001b[0;32m    521\u001b[0m     \u001b[1;31m# as there is a reference to status from this from the traceback due to\u001b[0m\u001b[1;33m\u001b[0m\u001b[1;33m\u001b[0m\u001b[1;33m\u001b[0m\u001b[0m\n",
      "\u001b[1;31mResourceExhaustedError\u001b[0m: OOM when allocating tensor with shape[64,32,119,119] and type float on /job:localhost/replica:0/task:0/device:GPU:0 by allocator GPU_0_bfc\n\t [[Node: training_7/Adam/gradients/max_pooling2d_54/MaxPool_grad/MaxPoolGrad = MaxPoolGrad[T=DT_FLOAT, data_format=\"NCHW\", ksize=[1, 1, 2, 2], padding=\"VALID\", strides=[1, 1, 2, 2], _device=\"/job:localhost/replica:0/task:0/device:GPU:0\"](activation_165/Relu, max_pooling2d_54/MaxPool, training_7/Adam/gradients/AddN_1)]]\nHint: If you want to see a list of allocated tensors when OOM happens, add report_tensor_allocations_upon_oom to RunOptions for current allocation info.\n"
     ]
    }
   ],
   "source": [
    "# Set the generator to create a validation set, and the parameters for how it will train.\n",
    "make_parallel(classifier.fit_generator(\n",
    "    generator = training_set,\n",
    "    steps_per_epoch = 400, # (Total / Batch) + Data Aug\n",
    "    epochs = 10,\n",
    "    validation_data = validation_set,\n",
    "    validation_steps = 160, # (Total / Batch) + Data Aug\n",
    "    callbacks=[EarlyStopping(patience=3, restore_best_weights=True), ReduceLROnPlateau(patience=2)]), 2)\n",
    "model.save_weights('dr_second_model.h5')"
   ]
  },
  {
   "cell_type": "markdown",
   "metadata": {},
   "source": [
    "#### Visualize the Results - Take Two!"
   ]
  },
  {
   "cell_type": "code",
   "execution_count": null,
   "metadata": {},
   "outputs": [],
   "source": [
    "# We should plot the results of the models training\n",
    "# Set the lists for each part of the models' history and the epochs used so we can plot them\n",
    "acc = classifier.history.history['acc']\n",
    "val_acc = classifier.history.history['val_acc']\n",
    "\n",
    "loss = classifier.history.history['loss']\n",
    "val_loss = classifier.history.history['val_loss']\n",
    "\n",
    "epochs_range = np.arange(1,11)\n",
    "\n",
    "# Make a subplot for 'loss' and one for 'accuracy'\n",
    "plt.figure(figsize=(15, 10))\n",
    "plt.subplot(1, 2, 1)\n",
    "plt.plot(epochs_range, acc, label='Training Accuracy')\n",
    "plt.plot(epochs_range, val_acc, label='Validation Accuracy')\n",
    "plt.legend(loc='lower right')\n",
    "plt.title('Training and Validation Accuracy')\n",
    "\n",
    "plt.subplot(1, 2, 2)\n",
    "plt.plot(epochs_range, loss, label='Training Loss')\n",
    "plt.plot(epochs_range, val_loss, label='Validation Loss')\n",
    "plt.legend(loc='upper right')\n",
    "plt.title('Training and Validation Loss')\n",
    "plt.show()"
   ]
  }
 ],
 "metadata": {
  "kernelspec": {
   "display_name": "Python 3",
   "language": "python",
   "name": "python3"
  },
  "language_info": {
   "codemirror_mode": {
    "name": "ipython",
    "version": 3
   },
   "file_extension": ".py",
   "mimetype": "text/x-python",
   "name": "python",
   "nbconvert_exporter": "python",
   "pygments_lexer": "ipython3",
   "version": "3.6.7"
  },
  "toc": {
   "base_numbering": 1,
   "nav_menu": {},
   "number_sections": true,
   "sideBar": true,
   "skip_h1_title": false,
   "title_cell": "Table of Contents",
   "title_sidebar": "Contents",
   "toc_cell": false,
   "toc_position": {},
   "toc_section_display": true,
   "toc_window_display": false
  }
 },
 "nbformat": 4,
 "nbformat_minor": 2
}
